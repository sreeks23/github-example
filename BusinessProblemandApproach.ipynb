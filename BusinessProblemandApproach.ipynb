{
 "cells": [
  {
   "cell_type": "markdown",
   "metadata": {},
   "source": [
    "## Business Problem"
   ]
  },
  {
   "cell_type": "markdown",
   "metadata": {},
   "source": [
    "An IT engineer, has received 2 job oppourtunities in the cities of Boston and Chigaco. While both the oppourtunities are lucarative and equally good, he decided to take on of the job oppourtunities. But currently he is working in a town where, he spend a maximum of 15-20 min to travel to office. Also, both of his children are going to elementary school, which is very near by. Also his neighbourhood has all the facilities that a family needs like grocery store, park and pharmacy. \n",
    "\n",
    "Since both the cities are considerably good, now he is in a total confusion on finalizing his oppourtunity. "
   ]
  },
  {
   "cell_type": "markdown",
   "metadata": {},
   "source": [
    "## Data Sources"
   ]
  },
  {
   "cell_type": "markdown",
   "metadata": {},
   "source": [
    "An IT engineer, has received 2 job oppourtunities in the cities of Boston and Chigaco. While both the oppourtunities are lucarative and equally good, he decided to take on of the job oppourtunities. But currently he is working in a town where, he spend a maximum of 15-20 min to travel to office. Also, both of his children are going to elementary school, which is very near by. Also his neighbourhood has all the facilities that a family needs like grocery store, park and pharmacy. \n",
    "\n",
    "Since both the cities are considerably good, now he is in a total confusion on finalizing his oppourtunity. \n",
    "\n",
    "In order to approach the issue, we need to gather the statistics of the basic needs which will be similar to the negihbourhood where he is staying. \n",
    "\n",
    "We need to identify all the areas in both the cities. We will approach this by gathering the ZIP codes and coordinates for each\n",
    "Gather all the public elementary schools with in these zip codes.\n",
    "Identify the travel time from the orginzation to each zip code.\n",
    "Mean reantal values to be gathered with in these zip codes\n",
    "\n",
    "### Boston \n",
    "- Public school information is available at - https://www.bostonpublicschools.org/\n",
    "- Schools performance is available at - http://profiles.doe.mass.edu/\n",
    "- All zip codes in boston are available at - https://www.zip-codes.com/city/ma-boston.asp & https://public.opendatasoft.com/explore/dataset/us-zip-code-latitude-and-longitude/table/\n",
    "- Mean Rental values are available at - https://www.zillow.com/research/data/\n",
    "- Travel duration can be obtaines using google maps distance matrix api\n",
    "\n",
    "### Chicago\n",
    "- Public school information is available at - https://cps.edu/\n",
    "- Schools performance is available at - https://cps.edu/\n",
    "- All zip codes in boston are available at -https://www.zip-codes.com/city/il-chicago.asp & https://public.opendatasoft.com/explore/dataset/us-zip-code-latitude-and-longitude/table/\n",
    "- Mean Rental values are available at - https://www.zillow.com/research/data/\n",
    "- Travel duration can be obtaines using google maps distance matrix api\n"
   ]
  }
 ],
 "metadata": {
  "kernelspec": {
   "display_name": "Python 3",
   "language": "python",
   "name": "python3"
  },
  "language_info": {
   "codemirror_mode": {
    "name": "ipython",
    "version": 3
   },
   "file_extension": ".py",
   "mimetype": "text/x-python",
   "name": "python",
   "nbconvert_exporter": "python",
   "pygments_lexer": "ipython3",
   "version": "3.6.7"
  }
 },
 "nbformat": 4,
 "nbformat_minor": 4
}
